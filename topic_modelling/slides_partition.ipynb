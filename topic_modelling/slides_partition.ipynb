{
 "cells": [
  {
   "cell_type": "code",
   "execution_count": 114,
   "id": "541859e6",
   "metadata": {},
   "outputs": [],
   "source": [
    "# подключаем необходимые библиотеки\n",
    "\n",
    "import numpy as np\n",
    "from scipy.spatial import distance\n",
    "\n",
    "import gensim\n",
    "from gensim import corpora\n",
    "from gensim.models import LdaModel\n",
    "from gensim.utils import simple_preprocess\n",
    "\n",
    "import nltk\n",
    "from nltk.corpus import stopwords\n",
    "from nltk.tokenize import sent_tokenize\n",
    "\n",
    "from pymystem3 import Mystem\n",
    "\n",
    "import os\n",
    "import sys"
   ]
  },
  {
   "cell_type": "code",
   "execution_count": 115,
   "id": "13cfe8d3",
   "metadata": {},
   "outputs": [],
   "source": [
    "# дополнительные стоп-слова русского языка\n",
    "with open(\"stopwords-ru.txt\", \"r\", encoding = \"utf-8\") as doc:\n",
    "    stop_words_ru = doc.read().splitlines()\n",
    "    doc.close"
   ]
  },
  {
   "cell_type": "code",
   "execution_count": 116,
   "id": "142e4077",
   "metadata": {
    "scrolled": true
   },
   "outputs": [
    {
     "name": "stderr",
     "output_type": "stream",
     "text": [
      "[nltk_data] Downloading package stopwords to\n",
      "[nltk_data]     C:\\Users\\kisnikser\\AppData\\Roaming\\nltk_data...\n",
      "[nltk_data]   Package stopwords is already up-to-date!\n"
     ]
    }
   ],
   "source": [
    "# загружаем словарь часто используемых в русском языке слов\n",
    "\n",
    "nltk.download('stopwords')\n",
    "stop_words = stopwords.words('russian')\n",
    "stop_words.extend(stop_words_ru)"
   ]
  },
  {
   "cell_type": "code",
   "execution_count": 117,
   "id": "4a2fd250",
   "metadata": {},
   "outputs": [],
   "source": [
    "# функция открытия файла на чтение\n",
    "\n",
    "def readFile():\n",
    "    file = sys.argv[1]\n",
    "    with open(file, \"r\", encoding = \"utf-8\") as doc:\n",
    "        text = doc.read()\n",
    "        doc.close()\n",
    "    return text"
   ]
  },
  {
   "cell_type": "code",
   "execution_count": 118,
   "id": "dacf660e",
   "metadata": {},
   "outputs": [],
   "source": [
    "# функция предобработки текста - возвращает (список предложений, токенизированный текст, список слов)\n",
    "\n",
    "def preprocessText(text):\n",
    "    mystem = Mystem() # лемматизатор (приводит слова к начальной форме)\n",
    "    preprocessed_text = list() # токенизированный текст (содержит основные слова, приведенные к начальной форме)\n",
    "    sentences = sent_tokenize(text, language = \"russian\") # текст, разбитый на предложения\n",
    "    for sentence in sentences:\n",
    "        tokenized_sentence = simple_preprocess(sentence, deacc = False)\n",
    "        tokenized_sentence_without_stop_words = [word for word in tokenized_sentence if word not in stop_words]\n",
    "        lemmatized_sentence = [word for word in mystem.lemmatize(\" \".join(tokenized_sentence_without_stop_words))\\\n",
    "                              if word != \" \" and word != \"\\n\"]\n",
    "        preprocessed_text.append(lemmatized_sentence)\n",
    "    words = [word for sentence in preprocessed_text for word in sentence] # список всех слов в тексте\n",
    "    return sentences, preprocessed_text, words"
   ]
  },
  {
   "cell_type": "code",
   "execution_count": 119,
   "id": "aa926c78",
   "metadata": {},
   "outputs": [],
   "source": [
    "# функция создания и получения предсказаний модели - возвращает словарь с вероятностями принадлежности слов к темам\n",
    "\n",
    "def getWordTopics(words):\n",
    "    dictionary = corpora.Dictionary([words]) # создаем словарь из текста (dictionary.token2id - пары: word - id)\n",
    "    corpus = [dictionary.doc2bow(words)]     # создаем корпус слов (пары: id - count)\n",
    "    # обучаем LDA модель (по умолчанию пока что стоит 3 темы в тексте)\n",
    "    LDA_model = LdaModel(corpus = corpus, id2word = dictionary, num_topics = 3)\n",
    "    # создаем словарь с вероятностями принадлежности слов к темам (пары: word - (p1, p2, ..., pn))\n",
    "    words_topics_dict = dict()\n",
    "    for id_, word in enumerate(list(dictionary.token2id)):\n",
    "        topics = LDA_model.get_term_topics(id_, minimum_probability=0)\n",
    "        probs = [topics[i][1] for i in range(len(topics))]\n",
    "        words_topics_dict[word] = probs\n",
    "    return words_topics_dict"
   ]
  },
  {
   "cell_type": "code",
   "execution_count": 120,
   "id": "6957f983",
   "metadata": {},
   "outputs": [],
   "source": [
    "def getSentencesTopics(preprocessed_text):\n",
    "    dictionary = corpora.Dictionary(preprocessed_text)\n",
    "    corpus = [dictionary.doc2bow(sentence) for sentence in preprocessed_text]\n",
    "    # обучаем LDA модель (по умолчанию пока что стоит 3 темы в тексте)\n",
    "    LDA_model = LdaModel(corpus = corpus, id2word = dictionary, num_topics = 4, alpha = 'auto', passes = 100)\n",
    "    # создаем словарь с вероятностями принадлежности предложений к темам (пары: sentence - (p1, p2, ..., pn))\n",
    "    sentences_topics_dict = dict()\n",
    "    for k, sentence in enumerate(preprocessed_text):\n",
    "        sentence_topics = LDA_model.get_document_topics(dictionary.doc2bow(sentence), minimum_probability = 0)\n",
    "        sentences_topics_dict[k] = [prob[1] for prob in sentence_topics]\n",
    "    return sentences_topics_dict"
   ]
  },
  {
   "cell_type": "code",
   "execution_count": 121,
   "id": "9ae98b13",
   "metadata": {},
   "outputs": [],
   "source": [
    "def getSentencesDistances(sentences_topics_dict):\n",
    "    count = len(sentences_topics_dict)\n",
    "    sentences_distances = [distance.cosine(sentences_topics_dict.get(u), sentences_topics_dict.get(v))\\\n",
    "                           for (u, v) in zip(range(count - 1), range(1, count))]\n",
    "    return sentences_distances"
   ]
  },
  {
   "cell_type": "code",
   "execution_count": 122,
   "id": "31f02c10",
   "metadata": {},
   "outputs": [],
   "source": [
    "# функция определения расстояния между соседними предложениями - возвращает список косинусных расстояний\n",
    "\n",
    "def getDistances(words_topics_dict, preprocessed_text):\n",
    "    count = len(preprocessed_text)\n",
    "    # создаем словарь с вероятностями принадлежности предложений к темам (пары: sentence - (p1, p2, ..., pn))\n",
    "    sentences_topics_dict = dict()\n",
    "    for k, sentence in enumerate(preprocessed_text):\n",
    "        sentence_words_topics = [words_topics_dict.get(word) for word in sentence]\n",
    "        sentences_topics_dict[k] = list(np.mean(sentence_words_topics, axis = 0))\n",
    "    # определяем косинусные расстояния между соседними предложениями (n предложений -> (n-1) расстояний)\n",
    "    sentences_distances = [distance.cosine(sentences_topics_dict.get(u), sentences_topics_dict.get(v))\\\n",
    "                           for (u, v) in zip(range(count - 1), range(1, count))]\n",
    "    return sentences_distances"
   ]
  },
  {
   "cell_type": "code",
   "execution_count": 123,
   "id": "61163d6e",
   "metadata": {},
   "outputs": [],
   "source": [
    "# функция возвращает топ k-1 предложений, после которых стоит начинать новый слайд (k - количество тем)\n",
    "\n",
    "def splitText(sentences_distances, k):\n",
    "    return sorted(list(reversed(list(np.argsort(sentences_distances))))[:k-1])"
   ]
  },
  {
   "cell_type": "code",
   "execution_count": 124,
   "id": "81721cdc",
   "metadata": {},
   "outputs": [],
   "source": [
    "# функция разделения текста на абзацы - возвращает список абзацев\n",
    "\n",
    "def getSections(sentences, sentences_distances, k):\n",
    "    nums = splitText(sentences_distances, k)\n",
    "    sections_1 = [\" \".join(sentences[u+1:v+1]) for (u, v) in zip([0, *nums[:-1]], nums)]\n",
    "    sections_2 = [\" \".join(sentences[nums[-1]+1:])]\n",
    "    sections = [*sections_1, *sections_2]\n",
    "    return sections"
   ]
  },
  {
   "cell_type": "code",
   "execution_count": 125,
   "id": "85cd6f25",
   "metadata": {},
   "outputs": [],
   "source": [
    "# MAIN METHOD: функция разделения текста на абзацы (выполняет все действия последовательно)\n",
    "\n",
    "def makeSections():\n",
    "    text = readFile()\n",
    "    sentences, preprocessed_text, words = preprocessText(text)\n",
    "    #words_topics_dict = getWordTopics(words)\n",
    "    sentences_topics_dict = getSentencesTopics(preprocessed_text)\n",
    "    #sentences_distances = getDistances(words_topics_dict, preprocessed_text)\n",
    "    sentences_distances = getSentencesDistances(sentences_topics_dict)\n",
    "    sections = getSections(sentences, sentences_distances, 3)\n",
    "    return sections"
   ]
  },
  {
   "cell_type": "code",
   "execution_count": 126,
   "id": "a169e35a",
   "metadata": {},
   "outputs": [],
   "source": [
    "# функция записи абзацев в отдельные файлы\n",
    "\n",
    "def printSections(sections):\n",
    "    names = []\n",
    "    for i, section in enumerate(sections):\n",
    "        name = \"section\" + str(i + 1) + \".txt\"\n",
    "        names.append(name)\n",
    "        with open(\"..\\\\latex_presentation\\\\\" + name, \"w\", encoding = \"utf-8\") as fout:\n",
    "            fout.write(section)\n",
    "    return names"
   ]
  },
  {
   "cell_type": "code",
   "execution_count": 128,
   "id": "6643e2eb",
   "metadata": {},
   "outputs": [
    {
     "ename": "FileNotFoundError",
     "evalue": "[Errno 2] No such file or directory: '-f'",
     "output_type": "error",
     "traceback": [
      "\u001b[1;31m---------------------------------------------------------------------------\u001b[0m",
      "\u001b[1;31mFileNotFoundError\u001b[0m                         Traceback (most recent call last)",
      "\u001b[1;32m<ipython-input-128-7577d42c0f0e>\u001b[0m in \u001b[0;36m<module>\u001b[1;34m\u001b[0m\n\u001b[1;32m----> 1\u001b[1;33m \u001b[0msections\u001b[0m \u001b[1;33m=\u001b[0m \u001b[0mmakeSections\u001b[0m\u001b[1;33m(\u001b[0m\u001b[1;33m)\u001b[0m\u001b[1;33m\u001b[0m\u001b[1;33m\u001b[0m\u001b[0m\n\u001b[0m\u001b[0;32m      2\u001b[0m \u001b[0mnames\u001b[0m \u001b[1;33m=\u001b[0m \u001b[0mprintSections\u001b[0m\u001b[1;33m(\u001b[0m\u001b[0msections\u001b[0m\u001b[1;33m)\u001b[0m\u001b[1;33m\u001b[0m\u001b[1;33m\u001b[0m\u001b[0m\n\u001b[0;32m      3\u001b[0m \u001b[0mos\u001b[0m\u001b[1;33m.\u001b[0m\u001b[0msystem\u001b[0m\u001b[1;33m(\u001b[0m\u001b[1;34m\"move ..\\\\topic_modelling\\\\section* ..\\\\latex_presentation\"\u001b[0m\u001b[1;33m)\u001b[0m\u001b[1;33m\u001b[0m\u001b[1;33m\u001b[0m\u001b[0m\n\u001b[0;32m      4\u001b[0m \u001b[0mos\u001b[0m\u001b[1;33m.\u001b[0m\u001b[0mchdir\u001b[0m\u001b[1;33m(\u001b[0m\u001b[1;34m\"..\\\\latex_presentation\"\u001b[0m\u001b[1;33m)\u001b[0m\u001b[1;33m\u001b[0m\u001b[1;33m\u001b[0m\u001b[0m\n\u001b[0;32m      5\u001b[0m \u001b[0mos\u001b[0m\u001b[1;33m.\u001b[0m\u001b[0msystem\u001b[0m\u001b[1;33m(\u001b[0m\u001b[1;34m\".\\\\main.exe \"\u001b[0m \u001b[1;33m+\u001b[0m \u001b[1;34m\" \"\u001b[0m\u001b[1;33m.\u001b[0m\u001b[0mjoin\u001b[0m\u001b[1;33m(\u001b[0m\u001b[0mnames\u001b[0m\u001b[1;33m)\u001b[0m\u001b[1;33m)\u001b[0m\u001b[1;33m\u001b[0m\u001b[1;33m\u001b[0m\u001b[0m\n",
      "\u001b[1;32m<ipython-input-125-098a54148bf0>\u001b[0m in \u001b[0;36mmakeSections\u001b[1;34m()\u001b[0m\n\u001b[0;32m      2\u001b[0m \u001b[1;33m\u001b[0m\u001b[0m\n\u001b[0;32m      3\u001b[0m \u001b[1;32mdef\u001b[0m \u001b[0mmakeSections\u001b[0m\u001b[1;33m(\u001b[0m\u001b[1;33m)\u001b[0m\u001b[1;33m:\u001b[0m\u001b[1;33m\u001b[0m\u001b[1;33m\u001b[0m\u001b[0m\n\u001b[1;32m----> 4\u001b[1;33m     \u001b[0mtext\u001b[0m \u001b[1;33m=\u001b[0m \u001b[0mreadFile\u001b[0m\u001b[1;33m(\u001b[0m\u001b[1;33m)\u001b[0m\u001b[1;33m\u001b[0m\u001b[1;33m\u001b[0m\u001b[0m\n\u001b[0m\u001b[0;32m      5\u001b[0m     \u001b[0msentences\u001b[0m\u001b[1;33m,\u001b[0m \u001b[0mpreprocessed_text\u001b[0m\u001b[1;33m,\u001b[0m \u001b[0mwords\u001b[0m \u001b[1;33m=\u001b[0m \u001b[0mpreprocessText\u001b[0m\u001b[1;33m(\u001b[0m\u001b[0mtext\u001b[0m\u001b[1;33m)\u001b[0m\u001b[1;33m\u001b[0m\u001b[1;33m\u001b[0m\u001b[0m\n\u001b[0;32m      6\u001b[0m     \u001b[1;31m#words_topics_dict = getWordTopics(words)\u001b[0m\u001b[1;33m\u001b[0m\u001b[1;33m\u001b[0m\u001b[1;33m\u001b[0m\u001b[0m\n",
      "\u001b[1;32m<ipython-input-117-92e125486c49>\u001b[0m in \u001b[0;36mreadFile\u001b[1;34m()\u001b[0m\n\u001b[0;32m      3\u001b[0m \u001b[1;32mdef\u001b[0m \u001b[0mreadFile\u001b[0m\u001b[1;33m(\u001b[0m\u001b[1;33m)\u001b[0m\u001b[1;33m:\u001b[0m\u001b[1;33m\u001b[0m\u001b[1;33m\u001b[0m\u001b[0m\n\u001b[0;32m      4\u001b[0m     \u001b[0mfile\u001b[0m \u001b[1;33m=\u001b[0m \u001b[0msys\u001b[0m\u001b[1;33m.\u001b[0m\u001b[0margv\u001b[0m\u001b[1;33m[\u001b[0m\u001b[1;36m1\u001b[0m\u001b[1;33m]\u001b[0m\u001b[1;33m\u001b[0m\u001b[1;33m\u001b[0m\u001b[0m\n\u001b[1;32m----> 5\u001b[1;33m     \u001b[1;32mwith\u001b[0m \u001b[0mopen\u001b[0m\u001b[1;33m(\u001b[0m\u001b[0mfile\u001b[0m\u001b[1;33m,\u001b[0m \u001b[1;34m\"r\"\u001b[0m\u001b[1;33m,\u001b[0m \u001b[0mencoding\u001b[0m \u001b[1;33m=\u001b[0m \u001b[1;34m\"utf-8\"\u001b[0m\u001b[1;33m)\u001b[0m \u001b[1;32mas\u001b[0m \u001b[0mdoc\u001b[0m\u001b[1;33m:\u001b[0m\u001b[1;33m\u001b[0m\u001b[1;33m\u001b[0m\u001b[0m\n\u001b[0m\u001b[0;32m      6\u001b[0m         \u001b[0mtext\u001b[0m \u001b[1;33m=\u001b[0m \u001b[0mdoc\u001b[0m\u001b[1;33m.\u001b[0m\u001b[0mread\u001b[0m\u001b[1;33m(\u001b[0m\u001b[1;33m)\u001b[0m\u001b[1;33m\u001b[0m\u001b[1;33m\u001b[0m\u001b[0m\n\u001b[0;32m      7\u001b[0m         \u001b[0mdoc\u001b[0m\u001b[1;33m.\u001b[0m\u001b[0mclose\u001b[0m\u001b[1;33m(\u001b[0m\u001b[1;33m)\u001b[0m\u001b[1;33m\u001b[0m\u001b[1;33m\u001b[0m\u001b[0m\n",
      "\u001b[1;31mFileNotFoundError\u001b[0m: [Errno 2] No such file or directory: '-f'"
     ]
    }
   ],
   "source": [
    "sections = makeSections()\n",
    "names = printSections(sections)\n",
    "os.system(\"move ..\\\\topic_modelling\\\\section* ..\\\\latex_presentation\")\n",
    "os.chdir(\"..\\\\latex_presentation\")\n",
    "os.system(\".\\\\main.exe \" + \" \".join(names))"
   ]
  }
 ],
 "metadata": {
  "kernelspec": {
   "display_name": "Python 3",
   "language": "python",
   "name": "python3"
  },
  "language_info": {
   "codemirror_mode": {
    "name": "ipython",
    "version": 3
   },
   "file_extension": ".py",
   "mimetype": "text/x-python",
   "name": "python",
   "nbconvert_exporter": "python",
   "pygments_lexer": "ipython3",
   "version": "3.8.8"
  }
 },
 "nbformat": 4,
 "nbformat_minor": 5
}
