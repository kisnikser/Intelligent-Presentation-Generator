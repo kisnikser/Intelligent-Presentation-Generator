{
 "cells": [
  {
   "cell_type": "code",
   "execution_count": 196,
   "id": "541859e6",
   "metadata": {},
   "outputs": [],
   "source": [
    "# подключаем необходимые библиотеки\n",
    "\n",
    "import numpy as np\n",
    "from scipy.spatial import distance\n",
    "\n",
    "import gensim\n",
    "from gensim import corpora\n",
    "from gensim.models import LdaModel\n",
    "from gensim.utils import simple_preprocess\n",
    "\n",
    "import nltk\n",
    "from nltk.corpus import stopwords\n",
    "from nltk.tokenize import sent_tokenize\n",
    "\n",
    "from pymystem3 import Mystem"
   ]
  },
  {
   "cell_type": "code",
   "execution_count": 197,
   "id": "142e4077",
   "metadata": {
    "scrolled": true
   },
   "outputs": [
    {
     "name": "stderr",
     "output_type": "stream",
     "text": [
      "[nltk_data] Downloading package stopwords to\n",
      "[nltk_data]     C:\\Users\\kisnikser\\AppData\\Roaming\\nltk_data...\n",
      "[nltk_data]   Package stopwords is already up-to-date!\n"
     ]
    }
   ],
   "source": [
    "# загружаем словарь часто используемых в русском языке слов\n",
    "\n",
    "nltk.download('stopwords')\n",
    "stop_words = stopwords.words('russian')"
   ]
  },
  {
   "cell_type": "code",
   "execution_count": 198,
   "id": "4a2fd250",
   "metadata": {},
   "outputs": [],
   "source": [
    "# открываем файл на чтение\n",
    "\n",
    "with open(\"text2.txt\", \"r\") as doc:\n",
    "    text = doc.read()\n",
    "    doc.close()"
   ]
  },
  {
   "cell_type": "code",
   "execution_count": 199,
   "id": "dacf660e",
   "metadata": {},
   "outputs": [],
   "source": [
    "# функция предобработки текста - возвращает (список предложений, токенизированный текст, список слов)\n",
    "\n",
    "def preprocess_text(text):\n",
    "    mystem = Mystem() # лемматизатор (приводит слова к начальной форме)\n",
    "    preprocessed_text = list() # токенизированный текст (содержит основные слова, приведенные к начальной форме)\n",
    "    sentences = sent_tokenize(text, language=\"russian\") # текст, разбитый на предложения\n",
    "    for sentence in sentences:\n",
    "        tokenized_sentence = simple_preprocess(sentence, deacc = False)\n",
    "        tokenized_sentence_without_stop_words = [word for word in tokenized_sentence if word not in stop_words]\n",
    "        lemmatized_sentence = [word for word in mystem.lemmatize(\" \".join(tokenized_sentence_without_stop_words))\\\n",
    "                              if word != \" \" and word != \"\\n\"]\n",
    "        preprocessed_text.append(lemmatized_sentence)\n",
    "    words = [word for sentence in preprocessed_text for word in sentence] # список всех слов в тексте\n",
    "    return sentences, preprocessed_text, words"
   ]
  },
  {
   "cell_type": "code",
   "execution_count": 200,
   "id": "4b51fe04",
   "metadata": {},
   "outputs": [],
   "source": [
    "sentences, preprocessed_text, words = preprocess_text(text)"
   ]
  },
  {
   "cell_type": "code",
   "execution_count": 201,
   "id": "319e9f25",
   "metadata": {},
   "outputs": [],
   "source": [
    "# создаем словарь из текста (dictionary.token2id - пары: word - id)\n",
    "# создаем корпус слов (пары: id - count)\n",
    "\n",
    "dictionary = corpora.Dictionary([words])\n",
    "corpus = dictionary.doc2bow(words)"
   ]
  },
  {
   "cell_type": "code",
   "execution_count": 202,
   "id": "0c46e2be",
   "metadata": {},
   "outputs": [],
   "source": [
    "# обучаем LDA модель (по умолчанию пока что стоит 3 темы в тексте)\n",
    "\n",
    "LDA_model = gensim.models.ldamodel.LdaModel(corpus=[corpus], id2word=dictionary, num_topics=3)"
   ]
  },
  {
   "cell_type": "code",
   "execution_count": 203,
   "id": "013fde93",
   "metadata": {},
   "outputs": [],
   "source": [
    "# создаем словарь с вероятностями принадлежности слов к темам (пары: word - (p1, p2, ..., pn))\n",
    "\n",
    "words_topics_dict = dict()\n",
    "for id_, word in enumerate(list(dictionary.token2id)):\n",
    "    topics = LDA_model.get_term_topics(id_, minimum_probability=0)\n",
    "    probs = [topics[i][1] for i in range(len(topics))]\n",
    "    words_topics_dict[word] = probs"
   ]
  },
  {
   "cell_type": "code",
   "execution_count": 204,
   "id": "6187f727",
   "metadata": {},
   "outputs": [],
   "source": [
    "# создаем словарь с вероятностями принадлежности предложений к темам (пары: sentence - (p1, p2, ..., pn))\n",
    "\n",
    "sentences_topics_dict = dict()\n",
    "for k, sentence in enumerate(preprocessed_text):\n",
    "    sentence_words_topics = [words_topics_dict.get(word) for word in sentence]\n",
    "    sentences_topics_dict[k] = list(np.sum(sentence_words_topics, axis = 0))"
   ]
  },
  {
   "cell_type": "code",
   "execution_count": 205,
   "id": "e47b23c7",
   "metadata": {},
   "outputs": [],
   "source": [
    "# определяем косинусные расстояния между соседними предложениями (n предложений -> (n-1) расстояний)\n",
    "\n",
    "sentences_distances = [distance.cosine(sentences_topics_dict.get(u), sentences_topics_dict.get(v))\\\n",
    "                       for (u, v) in zip(range(42), range(1, 43))]"
   ]
  },
  {
   "cell_type": "code",
   "execution_count": 206,
   "id": "59c3507e",
   "metadata": {},
   "outputs": [],
   "source": [
    "# функция возвращает топ k предложений, после которых стоит начинать новый слайд\n",
    "\n",
    "def slides_partition(k):\n",
    "    return sorted(list(reversed(list(np.argsort(sentences_distances))))[:k])"
   ]
  },
  {
   "cell_type": "code",
   "execution_count": 207,
   "id": "a2653cfe",
   "metadata": {},
   "outputs": [
    {
     "name": "stdout",
     "output_type": "stream",
     "text": [
      "[16, 17, 18, 21, 39]\n"
     ]
    }
   ],
   "source": [
    "slides_partition(5)\n",
    "print(slides_partition(5))"
   ]
  }
 ],
 "metadata": {
  "kernelspec": {
   "display_name": "Python 3",
   "language": "python",
   "name": "python3"
  },
  "language_info": {
   "codemirror_mode": {
    "name": "ipython",
    "version": 3
   },
   "file_extension": ".py",
   "mimetype": "text/x-python",
   "name": "python",
   "nbconvert_exporter": "python",
   "pygments_lexer": "ipython3",
   "version": "3.8.8"
  }
 },
 "nbformat": 4,
 "nbformat_minor": 5
}
