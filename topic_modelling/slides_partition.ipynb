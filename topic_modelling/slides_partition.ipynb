{
 "cells": [
  {
   "cell_type": "code",
   "execution_count": 103,
   "id": "541859e6",
   "metadata": {},
   "outputs": [],
   "source": [
    "# подключаем необходимые библиотеки\n",
    "\n",
    "import numpy as np\n",
    "from scipy.spatial import distance\n",
    "\n",
    "import gensim\n",
    "from gensim import corpora\n",
    "from gensim.models import LdaModel\n",
    "from gensim.utils import simple_preprocess\n",
    "\n",
    "import nltk\n",
    "from nltk.corpus import stopwords\n",
    "from nltk.tokenize import sent_tokenize\n",
    "\n",
    "from pymystem3 import Mystem"
   ]
  },
  {
   "cell_type": "code",
   "execution_count": 104,
   "id": "142e4077",
   "metadata": {
    "scrolled": true
   },
   "outputs": [
    {
     "name": "stderr",
     "output_type": "stream",
     "text": [
      "[nltk_data] Downloading package stopwords to\n",
      "[nltk_data]     C:\\Users\\kisnikser\\AppData\\Roaming\\nltk_data...\n",
      "[nltk_data]   Package stopwords is already up-to-date!\n"
     ]
    }
   ],
   "source": [
    "# загружаем словарь часто используемых в русском языке слов\n",
    "\n",
    "nltk.download('stopwords')\n",
    "stop_words = stopwords.words('russian')"
   ]
  },
  {
   "cell_type": "code",
   "execution_count": 105,
   "id": "4a2fd250",
   "metadata": {},
   "outputs": [],
   "source": [
    "# открываем файл на чтение\n",
    "\n",
    "with open(\"text.txt\", \"r\", encoding = \"utf-8\") as doc:\n",
    "    text = doc.read()\n",
    "    doc.close()"
   ]
  },
  {
   "cell_type": "code",
   "execution_count": 106,
   "id": "dacf660e",
   "metadata": {},
   "outputs": [],
   "source": [
    "# функция предобработки текста - возвращает (список предложений, токенизированный текст, список слов)\n",
    "\n",
    "def preprocess_text(text):\n",
    "    mystem = Mystem() # лемматизатор (приводит слова к начальной форме)\n",
    "    preprocessed_text = list() # токенизированный текст (содержит основные слова, приведенные к начальной форме)\n",
    "    sentences = sent_tokenize(text, language = \"russian\") # текст, разбитый на предложения\n",
    "    for sentence in sentences:\n",
    "        tokenized_sentence = simple_preprocess(sentence, deacc = False)\n",
    "        tokenized_sentence_without_stop_words = [word for word in tokenized_sentence if word not in stop_words]\n",
    "        lemmatized_sentence = [word for word in mystem.lemmatize(\" \".join(tokenized_sentence_without_stop_words))\\\n",
    "                              if word != \" \" and word != \"\\n\"]\n",
    "        preprocessed_text.append(lemmatized_sentence)\n",
    "    words = [word for sentence in preprocessed_text for word in sentence] # список всех слов в тексте\n",
    "    return sentences, preprocessed_text, words"
   ]
  },
  {
   "cell_type": "code",
   "execution_count": 107,
   "id": "4b51fe04",
   "metadata": {},
   "outputs": [],
   "source": [
    "sentences, preprocessed_text, words = preprocess_text(text)"
   ]
  },
  {
   "cell_type": "code",
   "execution_count": 114,
   "id": "d7f7ee03",
   "metadata": {},
   "outputs": [],
   "source": [
    "count = len(sentences)"
   ]
  },
  {
   "cell_type": "code",
   "execution_count": 109,
   "id": "319e9f25",
   "metadata": {},
   "outputs": [],
   "source": [
    "# создаем словарь из текста (dictionary.token2id - пары: word - id)\n",
    "# создаем корпус слов (пары: id - count)\n",
    "\n",
    "dictionary = corpora.Dictionary([words])\n",
    "corpus = [dictionary.doc2bow(words)]"
   ]
  },
  {
   "cell_type": "code",
   "execution_count": 110,
   "id": "0c46e2be",
   "metadata": {},
   "outputs": [],
   "source": [
    "# обучаем LDA модель (по умолчанию пока что стоит 3 темы в тексте)\n",
    "\n",
    "LDA_model = LdaModel(corpus = corpus, id2word = dictionary, num_topics = 3, passes = 1)"
   ]
  },
  {
   "cell_type": "code",
   "execution_count": 111,
   "id": "013fde93",
   "metadata": {},
   "outputs": [],
   "source": [
    "# создаем словарь с вероятностями принадлежности слов к темам (пары: word - (p1, p2, ..., pn))\n",
    "\n",
    "words_topics_dict = dict()\n",
    "for id_, word in enumerate(list(dictionary.token2id)):\n",
    "    topics = LDA_model.get_term_topics(id_, minimum_probability=0)\n",
    "    probs = [topics[i][1] for i in range(len(topics))]\n",
    "    words_topics_dict[word] = probs"
   ]
  },
  {
   "cell_type": "code",
   "execution_count": 112,
   "id": "6187f727",
   "metadata": {},
   "outputs": [],
   "source": [
    "# создаем словарь с вероятностями принадлежности предложений к темам (пары: sentence - (p1, p2, ..., pn))\n",
    "\n",
    "sentences_topics_dict = dict()\n",
    "for k, sentence in enumerate(preprocessed_text):\n",
    "    sentence_words_topics = [words_topics_dict.get(word) for word in sentence]\n",
    "    sentences_topics_dict[k] = list(np.mean(sentence_words_topics, axis = 0))"
   ]
  },
  {
   "cell_type": "code",
   "execution_count": 115,
   "id": "e47b23c7",
   "metadata": {},
   "outputs": [],
   "source": [
    "# определяем косинусные расстояния между соседними предложениями (n предложений -> (n-1) расстояний)\n",
    "\n",
    "sentences_distances = [distance.cosine(sentences_topics_dict.get(u), sentences_topics_dict.get(v))\\\n",
    "                       for (u, v) in zip(range(count - 1), range(1, count))]"
   ]
  },
  {
   "cell_type": "code",
   "execution_count": 116,
   "id": "59c3507e",
   "metadata": {},
   "outputs": [],
   "source": [
    "# функция возвращает топ k-1 предложений, после которых стоит начинать новый слайд (k - количество тем)\n",
    "\n",
    "def slides_partition(k):\n",
    "    return sorted(list(reversed(list(np.argsort(sentences_distances))))[:k-1])"
   ]
  },
  {
   "cell_type": "code",
   "execution_count": 127,
   "id": "cc31a320",
   "metadata": {},
   "outputs": [],
   "source": [
    "def get_sections(k):\n",
    "    nums = slides_partition(k)\n",
    "    sections_1 = [\" \".join(sentences[u+1:v+1]) for (u, v) in zip([0, *nums[:-1]], nums)]\n",
    "    sections_2 = [\" \".join(sentences[nums[-1]+1:])]\n",
    "    sections = [*sections_1, *sections_2]\n",
    "    return sections"
   ]
  },
  {
   "cell_type": "code",
   "execution_count": 132,
   "id": "1094263f",
   "metadata": {},
   "outputs": [],
   "source": [
    "sections = get_sections(3)"
   ]
  }
 ],
 "metadata": {
  "kernelspec": {
   "display_name": "Python 3",
   "language": "python",
   "name": "python3"
  },
  "language_info": {
   "codemirror_mode": {
    "name": "ipython",
    "version": 3
   },
   "file_extension": ".py",
   "mimetype": "text/x-python",
   "name": "python",
   "nbconvert_exporter": "python",
   "pygments_lexer": "ipython3",
   "version": "3.8.8"
  }
 },
 "nbformat": 4,
 "nbformat_minor": 5
}
