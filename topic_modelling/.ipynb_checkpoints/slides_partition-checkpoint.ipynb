{
 "cells": [
  {
   "cell_type": "code",
   "execution_count": 168,
   "id": "027aac35",
   "metadata": {},
   "outputs": [],
   "source": [
    "import gensim\n",
    "from gensim import corpora\n",
    "from gensim.models import LdaModel, LdaMulticore\n",
    "import gensim.downloader as api\n",
    "from gensim.utils import simple_preprocess\n",
    "import nltk\n",
    "from nltk.stem.wordnet import WordNetLemmatizer\n",
    "from nltk.corpus import stopwords\n",
    "import re\n",
    "import logging\n",
    "import numpy as np\n",
    "import os\n",
    "from nltk.corpus import stopwords\n",
    "from string import punctuation\n",
    "from pymystem3 import Mystem\n",
    "from scipy.spatial import distance\n",
    "\n",
    "from nltk.tokenize import sent_tokenize\n",
    "from nltk.tokenize import word_tokenize"
   ]
  },
  {
   "cell_type": "code",
   "execution_count": 169,
   "id": "142e4077",
   "metadata": {},
   "outputs": [
    {
     "name": "stderr",
     "output_type": "stream",
     "text": [
      "[nltk_data] Downloading package stopwords to\n",
      "[nltk_data]     C:\\Users\\kisnikser\\AppData\\Roaming\\nltk_data...\n",
      "[nltk_data]   Package stopwords is already up-to-date!\n",
      "[nltk_data] Downloading package wordnet to\n",
      "[nltk_data]     C:\\Users\\kisnikser\\AppData\\Roaming\\nltk_data...\n",
      "[nltk_data]   Package wordnet is already up-to-date!\n"
     ]
    },
    {
     "data": {
      "text/plain": [
       "True"
      ]
     },
     "execution_count": 169,
     "metadata": {},
     "output_type": "execute_result"
    }
   ],
   "source": [
    "nltk.download('stopwords')\n",
    "nltk.download('wordnet')"
   ]
  },
  {
   "cell_type": "code",
   "execution_count": 170,
   "id": "2e1869ef",
   "metadata": {},
   "outputs": [],
   "source": [
    "# загрузка stopwords\n",
    "stop_words = stopwords.words('russian')"
   ]
  },
  {
   "cell_type": "code",
   "execution_count": 171,
   "id": "06b3e7d5",
   "metadata": {},
   "outputs": [],
   "source": [
    "mystem = Mystem()"
   ]
  },
  {
   "cell_type": "code",
   "execution_count": 172,
   "id": "cdf06077",
   "metadata": {},
   "outputs": [],
   "source": [
    "with open(\"text2.txt\", \"r\") as doc:\n",
    "    text = doc.read()\n",
    "    doc.close()"
   ]
  },
  {
   "cell_type": "code",
   "execution_count": 14,
   "id": "c29555cc",
   "metadata": {},
   "outputs": [],
   "source": [
    "# предобработка текста - возвращает (токенизированный текст, список слов)\n",
    "def preprocess_text(text):\n",
    "    preprocessed_text = list()\n",
    "    sentences = sent_tokenize(text, language=\"russian\")\n",
    "    for sentence in sentences:\n",
    "        tokenized_sentence = simple_preprocess(sentence, deacc = False)\n",
    "        tokenized_sentence_without_stop_words = [word for word in tokenized_sentence if word not in stop_words]\n",
    "        lemmatized_sentence = [word for word in mystem.lemmatize(\" \".join(tokenized_sentence_without_stop_words))\\\n",
    "                              if word != \" \" and word != \"\\n\"]\n",
    "        preprocessed_text.append(lemmatized_sentence)\n",
    "    words = [word for sentence in preprocessed_text for word in sentence]\n",
    "    return sentences, preprocessed_text, words"
   ]
  },
  {
   "cell_type": "code",
   "execution_count": 15,
   "id": "5c6410f7",
   "metadata": {},
   "outputs": [],
   "source": [
    "sentences, preprocessed_text, words = preprocess_text(text)"
   ]
  },
  {
   "cell_type": "code",
   "execution_count": 20,
   "id": "c692c892",
   "metadata": {},
   "outputs": [],
   "source": [
    "dictionary = corpora.Dictionary([words])\n",
    "corpus = dictionary.doc2bow(words)"
   ]
  },
  {
   "cell_type": "code",
   "execution_count": 88,
   "id": "381d596f",
   "metadata": {},
   "outputs": [],
   "source": [
    "# Обучение\n",
    "LDA_model = gensim.models.ldamodel.LdaModel(corpus=[corpus], id2word=dictionary, num_topics=3, passes=1)"
   ]
  },
  {
   "cell_type": "code",
   "execution_count": 113,
   "id": "859fdab7",
   "metadata": {},
   "outputs": [],
   "source": [
    "words_topics_dict = dict()\n",
    "for id_, word in enumerate(list(dictionary.token2id)):\n",
    "    topics = LDA_model.get_term_topics(id_, minimum_probability=0)\n",
    "    probs = [topics[i][1] for i in range(len(topics))]\n",
    "    words_topics_dict[word] = probs"
   ]
  },
  {
   "cell_type": "code",
   "execution_count": 117,
   "id": "84072956",
   "metadata": {},
   "outputs": [],
   "source": [
    "sentences_topics_dict = dict()\n",
    "for k, sentence in enumerate(preprocessed_text):\n",
    "    sentence_words_topics = [words_topics_dict.get(word) for word in sentence]\n",
    "    sentences_topics_dict[k] = list(np.sum(sentence_words_topics, axis = 0))"
   ]
  },
  {
   "cell_type": "code",
   "execution_count": 131,
   "id": "847e67c0",
   "metadata": {},
   "outputs": [
    {
     "data": {
      "text/plain": [
       "0.0023965835571289062"
      ]
     },
     "execution_count": 131,
     "metadata": {},
     "output_type": "execute_result"
    }
   ],
   "source": [
    "distance.cosine(sentences_topics_dict.get(0), sentences_topics_dict.get(8))"
   ]
  },
  {
   "cell_type": "code",
   "execution_count": 132,
   "id": "fc23d755",
   "metadata": {},
   "outputs": [],
   "source": [
    "sentences_distances = [distance.cosine(sentences_topics_dict.get(u), sentences_topics_dict.get(v))\\\n",
    "                       for (u, v) in zip(range(42), range(1, 43))]"
   ]
  },
  {
   "cell_type": "code",
   "execution_count": 167,
   "id": "9999a1d9",
   "metadata": {},
   "outputs": [],
   "source": [
    "b = list(np.argsort(sentences_distances))"
   ]
  },
  {
   "cell_type": "code",
   "execution_count": 165,
   "id": "462983bc",
   "metadata": {},
   "outputs": [
    {
     "data": {
      "text/plain": [
       "[12, 18, 11, 17, 19]"
      ]
     },
     "execution_count": 165,
     "metadata": {},
     "output_type": "execute_result"
    }
   ],
   "source": [
    "list(reversed(b))[:5]"
   ]
  }
 ],
 "metadata": {
  "kernelspec": {
   "display_name": "Python 3",
   "language": "python",
   "name": "python3"
  },
  "language_info": {
   "codemirror_mode": {
    "name": "ipython",
    "version": 3
   },
   "file_extension": ".py",
   "mimetype": "text/x-python",
   "name": "python",
   "nbconvert_exporter": "python",
   "pygments_lexer": "ipython3",
   "version": "3.8.8"
  }
 },
 "nbformat": 4,
 "nbformat_minor": 5
}
